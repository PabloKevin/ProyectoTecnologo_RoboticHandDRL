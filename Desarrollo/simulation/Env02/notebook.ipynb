{
 "cells": [
  {
   "cell_type": "markdown",
   "metadata": {},
   "source": [
    "# Notebook para código de pruebas, checks y anotaciones"
   ]
  },
  {
   "cell_type": "markdown",
   "metadata": {},
   "source": [
    "Chequear si las probabilidades aleatorias del choose_action() funcionan bien."
   ]
  },
  {
   "cell_type": "code",
   "execution_count": 2,
   "metadata": {},
   "outputs": [
    {
     "name": "stdout",
     "output_type": "stream",
     "text": [
      "[1.0, 1.0, 1.00000004, 0.9999999900000001, 1.0]\n"
     ]
    }
   ],
   "source": [
    "import numpy as np\n",
    "\n",
    "\"\"\"probs = [[0.0040233,  0.847307,   0.14866969],\n",
    " [0.7979448,  0.15856983, 0.0434854 ],\n",
    " [0.5554874 , 0.34591073 ,0.09860188],\n",
    " [0.2927103  ,0.50127864, 0.2060111 ],\n",
    " [0.11640792, 0.45406437 ,0.4295277 ]]\n",
    "\"\"\"\n",
    "probs = [[0.48661566, 0.42588234, 0.087502  ],\n",
    " [0.19536212, 0.3296347 , 0.47500318],\n",
    " [0.37989447 ,0.37718463 ,0.24292094],\n",
    " [0.2112374 , 0.5596584 , 0.22910419],\n",
    " [0.31614146, 0.39353094, 0.2903276 ]]\n",
    "\n",
    "sum_probs = []\n",
    "for p in probs:\n",
    "    sum_probs.append(np.sum(p))\n",
    "\n",
    "print(sum_probs)"
   ]
  }
 ],
 "metadata": {
  "kernelspec": {
   "display_name": "RoboticHand_ML",
   "language": "python",
   "name": "python3"
  },
  "language_info": {
   "codemirror_mode": {
    "name": "ipython",
    "version": 3
   },
   "file_extension": ".py",
   "mimetype": "text/x-python",
   "name": "python",
   "nbconvert_exporter": "python",
   "pygments_lexer": "ipython3",
   "version": "3.11.11"
  }
 },
 "nbformat": 4,
 "nbformat_minor": 2
}

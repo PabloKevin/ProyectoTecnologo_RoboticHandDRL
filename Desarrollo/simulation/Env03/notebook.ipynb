{
 "cells": [
  {
   "cell_type": "markdown",
   "metadata": {},
   "source": [
    "# Notebook para código de pruebas, checks y anotaciones"
   ]
  },
  {
   "cell_type": "markdown",
   "metadata": {},
   "source": [
    "Chequear si las probabilidades aleatorias del choose_action() funcionan bien."
   ]
  },
  {
   "cell_type": "code",
   "execution_count": 2,
   "metadata": {},
   "outputs": [
    {
     "name": "stdout",
     "output_type": "stream",
     "text": [
      "[1.0, 1.0, 1.00000004, 0.9999999900000001, 1.0]\n"
     ]
    }
   ],
   "source": [
    "import numpy as np\n",
    "\n",
    "\"\"\"probs = [[0.0040233,  0.847307,   0.14866969],\n",
    " [0.7979448,  0.15856983, 0.0434854 ],\n",
    " [0.5554874 , 0.34591073 ,0.09860188],\n",
    " [0.2927103  ,0.50127864, 0.2060111 ],\n",
    " [0.11640792, 0.45406437 ,0.4295277 ]]\n",
    "\"\"\"\n",
    "probs = [[0.48661566, 0.42588234, 0.087502  ],\n",
    " [0.19536212, 0.3296347 , 0.47500318],\n",
    " [0.37989447 ,0.37718463 ,0.24292094],\n",
    " [0.2112374 , 0.5596584 , 0.22910419],\n",
    " [0.31614146, 0.39353094, 0.2903276 ]]\n",
    "\n",
    "sum_probs = []\n",
    "for p in probs:\n",
    "    sum_probs.append(np.sum(p))\n",
    "\n",
    "print(sum_probs)"
   ]
  },
  {
   "cell_type": "markdown",
   "metadata": {},
   "source": [
    "## Creando la red encargada de distinguir herramientas"
   ]
  },
  {
   "cell_type": "code",
   "execution_count": null,
   "metadata": {},
   "outputs": [],
   "source": [
    "import torch\n",
    "import torch.nn as nn\n",
    "import torch.nn.functional as F\n",
    "import torch.optim as optim\n",
    "import os\n",
    "\n",
    "class ObserverNetwork(nn.Module):\n",
    "    # Devuelve la acción a tomar en función del estado\n",
    "    def __init__(self, input_dims, n_actions, n_choices_per_finger, conv_channels=[16, 32, 64], hidden_size=256, name='observer', checkpoint_dir='Desarrollo/simulation/Env03/tmp/observer', learning_rate=0.001):\n",
    "        super(ObserverNetwork, self).__init__()\n",
    "        self.input_dims = input_dims\n",
    "        self.checkpoint_dir = checkpoint_dir\n",
    "        self.name = name\n",
    "        self.checkpoint_file = os.path.join(self.checkpoint_dir, name+'_td3')\n",
    "\n",
    "        self.conv1 = nn.Conv2d(in_channels=1, out_channels=conv_channels[0], kernel_size=5, stride=2, padding=2)\n",
    "        self.conv2 = nn.Conv2d(in_channels=conv_channels[0], out_channels=conv_channels[1], kernel_size=5, stride=2, padding=2)\n",
    "        self.conv3 = nn.Conv2d(in_channels=conv_channels[1], out_channels=conv_channels[2], kernel_size=5, stride=2, padding=2)\n",
    "        self.fc1 = nn.Linear(conv_channels[2] * (input_dims[0] // 8) * (input_dims[1] // 8), hidden_size)\n",
    "        self.fc2 = nn.Linear(hidden_size, 5)\n",
    "        self.fc3 = nn.Linear(5, 1)\n",
    "        \n",
    "        self.optimizer = optim.AdamW(self.parameters(), lr=learning_rate)\n",
    "        \n",
    "        self.device = torch.device('cuda:0' if torch.cuda.is_available() else 'cpu')\n",
    "        print(f\"Created Actor Network on device: {self.device}\")\n",
    "        self.to(self.device)\n",
    "        \n",
    "\n",
    "    def forward(self, img):\n",
    "        img = img.to(self.device)\n",
    "        x = F.leaky_relu(self.conv1(img))\n",
    "        x = F.leaky_relu(self.conv2(x))\n",
    "        x = F.leaky_relu(self.conv3(x))\n",
    "        #print(f\"Shape after conv3: {x.shape}\")\n",
    "        # Check if the input is a batch or a single image\n",
    "        if len(x.shape) == 4:  # Batch case: [batch_size, channels, height, width]\n",
    "            x = x.reshape((x.size(0), -1))  # Flatten each sample in the batch\n",
    "        elif len(x.shape) == 3:  # Single image case: [channels, height, width]\n",
    "            x = x.reshape(-1)  # Flatten the single image\n",
    "        x = F.leaky_relu(self.fc1(x))\n",
    "        x = F.leaky_relu(self.fc2(x))\n",
    "        tool_reg = F.leaky_relu(self.fc3(x))\n",
    "            \n",
    "        return tool_reg # Tool regresion\n",
    "\n",
    "    def save_checkpoint(self):\n",
    "        torch.save(self.state_dict(), self.checkpoint_file)\n",
    "\n",
    "    def load_checkpoint(self):\n",
    "        self.load_state_dict(torch.load(self.checkpoint_file))"
   ]
  }
 ],
 "metadata": {
  "kernelspec": {
   "display_name": "RoboticHand_ML",
   "language": "python",
   "name": "python3"
  },
  "language_info": {
   "codemirror_mode": {
    "name": "ipython",
    "version": 3
   },
   "file_extension": ".py",
   "mimetype": "text/x-python",
   "name": "python",
   "nbconvert_exporter": "python",
   "pygments_lexer": "ipython3",
   "version": "3.11.0"
  }
 },
 "nbformat": 4,
 "nbformat_minor": 2
}

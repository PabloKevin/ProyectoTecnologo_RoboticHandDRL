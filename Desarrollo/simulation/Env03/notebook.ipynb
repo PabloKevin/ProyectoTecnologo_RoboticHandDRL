{
 "cells": [
  {
   "cell_type": "markdown",
   "metadata": {},
   "source": [
    "# Notebook para código de pruebas, checks y anotaciones"
   ]
  },
  {
   "cell_type": "markdown",
   "metadata": {},
   "source": [
    "Chequear si las probabilidades aleatorias del choose_action() funcionan bien."
   ]
  },
  {
   "cell_type": "code",
   "execution_count": 2,
   "metadata": {},
   "outputs": [
    {
     "name": "stdout",
     "output_type": "stream",
     "text": [
      "[1.0, 1.0, 1.00000004, 0.9999999900000001, 1.0]\n"
     ]
    }
   ],
   "source": [
    "import numpy as np\n",
    "\n",
    "\"\"\"probs = [[0.0040233,  0.847307,   0.14866969],\n",
    " [0.7979448,  0.15856983, 0.0434854 ],\n",
    " [0.5554874 , 0.34591073 ,0.09860188],\n",
    " [0.2927103  ,0.50127864, 0.2060111 ],\n",
    " [0.11640792, 0.45406437 ,0.4295277 ]]\n",
    "\"\"\"\n",
    "probs = [[0.48661566, 0.42588234, 0.087502  ],\n",
    " [0.19536212, 0.3296347 , 0.47500318],\n",
    " [0.37989447 ,0.37718463 ,0.24292094],\n",
    " [0.2112374 , 0.5596584 , 0.22910419],\n",
    " [0.31614146, 0.39353094, 0.2903276 ]]\n",
    "\n",
    "sum_probs = []\n",
    "for p in probs:\n",
    "    sum_probs.append(np.sum(p))\n",
    "\n",
    "print(sum_probs)"
   ]
  },
  {
   "cell_type": "markdown",
   "metadata": {},
   "source": [
    "## Creando la red encargada de distinguir herramientas"
   ]
  },
  {
   "cell_type": "code",
   "execution_count": null,
   "metadata": {},
   "outputs": [],
   "source": [
    "import torch\n",
    "import torch.nn as nn\n",
    "import torch.nn.functional as F\n",
    "import torch.optim as optim\n",
    "import os\n",
    "\n",
    "class ObserverNetwork(nn.Module):\n",
    "    # Devuelve la acción a tomar en función del estado\n",
    "    def __init__(self, input_dims, n_actions, n_choices_per_finger, conv_channels=[16, 32, 64], hidden_size=256, name='observer', checkpoint_dir='Desarrollo/simulation/Env03/tmp/observer', learning_rate=0.001):\n",
    "        super(ObserverNetwork, self).__init__()\n",
    "        self.input_dims = input_dims\n",
    "        self.checkpoint_dir = checkpoint_dir\n",
    "        self.name = name\n",
    "        self.checkpoint_file = os.path.join(self.checkpoint_dir, name+'_td3')\n",
    "\n",
    "        self.conv1 = nn.Conv2d(in_channels=1, out_channels=conv_channels[0], kernel_size=5, stride=2, padding=2)\n",
    "        self.conv2 = nn.Conv2d(in_channels=conv_channels[0], out_channels=conv_channels[1], kernel_size=5, stride=2, padding=2)\n",
    "        self.conv3 = nn.Conv2d(in_channels=conv_channels[1], out_channels=conv_channels[2], kernel_size=5, stride=2, padding=2)\n",
    "        self.fc1 = nn.Linear(conv_channels[2] * (input_dims[0] // 8) * (input_dims[1] // 8), hidden_size)\n",
    "        self.fc2 = nn.Linear(hidden_size, 5)\n",
    "        self.fc3 = nn.Linear(5, 1)\n",
    "        \n",
    "        self.optimizer = optim.AdamW(self.parameters(), lr=learning_rate)\n",
    "        \n",
    "        self.device = torch.device('cuda:0' if torch.cuda.is_available() else 'cpu')\n",
    "        print(f\"Created Actor Network on device: {self.device}\")\n",
    "        self.to(self.device)\n",
    "        \n",
    "\n",
    "    def forward(self, img):\n",
    "        img = img.to(self.device)\n",
    "        x = F.leaky_relu(self.conv1(img))\n",
    "        x = F.leaky_relu(self.conv2(x))\n",
    "        x = F.leaky_relu(self.conv3(x))\n",
    "        #print(f\"Shape after conv3: {x.shape}\")\n",
    "        # Check if the input is a batch or a single image\n",
    "        if len(x.shape) == 4:  # Batch case: [batch_size, channels, height, width]\n",
    "            x = x.reshape((x.size(0), -1))  # Flatten each sample in the batch\n",
    "        elif len(x.shape) == 3:  # Single image case: [channels, height, width]\n",
    "            x = x.reshape(-1)  # Flatten the single image\n",
    "        x = F.leaky_relu(self.fc1(x))\n",
    "        x = F.leaky_relu(self.fc2(x))\n",
    "        tool_reg = F.leaky_relu(self.fc3(x))\n",
    "            \n",
    "        return tool_reg # Tool regresion\n",
    "\n",
    "    def save_checkpoint(self):\n",
    "        torch.save(self.state_dict(), self.checkpoint_file)\n",
    "\n",
    "    def load_checkpoint(self):\n",
    "        self.load_state_dict(torch.load(self.checkpoint_file))"
   ]
  },
  {
   "cell_type": "code",
   "execution_count": 11,
   "metadata": {},
   "outputs": [
    {
     "data": {
      "text/plain": [
       "{'Combination 1': [2, 1, 2, 2, 2],\n",
       " 'Combination 2': [2, 1, 1, 2, 2],\n",
       " 'Combination 3': [1, 1, 1, 1, 1],\n",
       " 'Combination 4': [0, 0, 0, 0, 0]}"
      ]
     },
     "execution_count": 11,
     "metadata": {},
     "output_type": "execute_result"
    }
   ],
   "source": [
    "combinations = {\n",
    "    \"Combination 1\": [2, 1, 2, 2, 2],  # Thumb closed, index half, others closed\n",
    "    \"Combination 2\": [2, 1, 1, 2, 2],  # Thumb closed, index and middle half, others open\n",
    "    \"Combination 3\": [1, 1, 1, 1, 1],     # All fingers half closed\n",
    "    \"Combination 4\": [0, 0, 0, 0, 0],           # All fingers opened\n",
    "    \"Weird Combination\": None,              # Any other combination\n",
    "}\n",
    "\n",
    "dict(list(combinations.items())[:-1])"
   ]
  },
  {
   "cell_type": "markdown",
   "metadata": {},
   "source": [
    "Ver cuantos pixeles blancos tiene cada herramienta"
   ]
  },
  {
   "cell_type": "code",
   "execution_count": 10,
   "metadata": {},
   "outputs": [
    {
     "name": "stdout",
     "output_type": "stream",
     "text": [
      "bw_Lapicera01.png , white_pixels/1000 = 1.38 , [min,max] with scale: [1.242, 1.656]\n",
      "bw_destornillador02.png , white_pixels/1000 = 3.225 , [min,max] with scale: [2.9025, 3.87]\n",
      "bw_destornillador01.jpg , white_pixels/1000 = 2.732 , [min,max] with scale: [2.4588, 3.2784]\n",
      "bw_martillo02.png , white_pixels/1000 = 6.885 , [min,max] with scale: [6.1965, 8.262]\n",
      "bw_Martillo01.jpg , white_pixels/1000 = 6.363 , [min,max] with scale: [5.7267, 7.635599999999999]\n",
      "bw_tornillo02.png , white_pixels/1000 = 0.611 , [min,max] with scale: [0.5498999999999999, 0.7332]\n",
      "bw_destornillador03.png , white_pixels/1000 = 3.58 , [min,max] with scale: [3.222, 4.296]\n",
      "bw_calibre01.png , white_pixels/1000 = 4.672 , [min,max] with scale: [4.2048000000000005, 5.6064]\n",
      "bw_lapicera02.png , white_pixels/1000 = 2.261 , [min,max] with scale: [2.0349, 2.7131999999999996]\n",
      "empty.png , white_pixels/1000 = 0.0 , [min,max] with scale: [0.0, 0.0]\n",
      "bw_tornillo01.jpg , white_pixels/1000 = 0.258 , [min,max] with scale: [0.23220000000000002, 0.3096]\n",
      "bw_tornillo03.png , white_pixels/1000 = 0.86 , [min,max] with scale: [0.774, 1.032]\n"
     ]
    }
   ],
   "source": [
    "import os\n",
    "import numpy as np\n",
    "import cv2\n",
    "\n",
    "image_dir = \"/home/pablo_kevin/ProyectoTecnologo_RoboticHandDRL/Desarrollo/simulation/Env03/DataSets/B&W_Tools\"\n",
    "tools_of_interest = [f for f in os.listdir(image_dir)]\n",
    "\n",
    "for tool in tools_of_interest:\n",
    "    selected_image_path = os.path.join(image_dir, tool)\n",
    "    img = cv2.imread(selected_image_path, cv2.IMREAD_GRAYSCALE)\n",
    "    n_white_pixels = len(np.argwhere(img == 255))\n",
    "    print(tool, \", white_pixels/1000 =\", n_white_pixels/1000, \", [min,max] with scale:\", [n_white_pixels*0.9/1000, n_white_pixels*1.2/1000])"
   ]
  }
 ],
 "metadata": {
  "kernelspec": {
   "display_name": "RoboticHand_ML",
   "language": "python",
   "name": "python3"
  },
  "language_info": {
   "codemirror_mode": {
    "name": "ipython",
    "version": 3
   },
   "file_extension": ".py",
   "mimetype": "text/x-python",
   "name": "python",
   "nbconvert_exporter": "python",
   "pygments_lexer": "ipython3",
   "version": "3.11.11"
  }
 },
 "nbformat": 4,
 "nbformat_minor": 2
}
